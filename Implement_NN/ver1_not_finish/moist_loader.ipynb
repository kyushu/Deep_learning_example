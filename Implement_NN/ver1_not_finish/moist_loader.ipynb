{
 "cells": [
  {
   "cell_type": "code",
   "execution_count": null,
   "metadata": {
    "collapsed": false
   },
   "outputs": [],
   "source": [
    "import network\n",
    "\n",
    "\n",
    "from sklearn.model_selection import train_test_split\n",
    "from sklearn import datasets\n",
    "from sklearn.datasets import fetch_mldata\n",
    "\n",
    "import numpy as np\n"
   ]
  },
  {
   "cell_type": "code",
   "execution_count": null,
   "metadata": {
    "collapsed": false
   },
   "outputs": [],
   "source": [
    "def load_data():\n",
    "    mnist = fetch_mldata('MNIST original')\n",
    "    (train_data, intermediateData, trainLabel, intermediateLabel) = train_test_split(mnist.data, mnist.target, test_size=0.5, random_state=42)\n",
    "    (test_data, validation_data, testLabel, validationLabel) = train_test_split(intermediateData, intermediateLabel, test_size=0.2, random_state=84)\n",
    "\n",
    "    # return  \"Training dataset\", \"Validation dataset\", \"Test dataset\"\n",
    "    return ((train_data, trainLabel), (validation_data, validationLabel), (test_data, testLabel))"
   ]
  },
  {
   "cell_type": "code",
   "execution_count": null,
   "metadata": {
    "collapsed": true
   },
   "outputs": [],
   "source": [
    "def vectorized_result(j):\n",
    "    e = np.zeros((10, 1))\n",
    "    e[j] = 1.0\n",
    "    return e\n"
   ]
  },
  {
   "cell_type": "code",
   "execution_count": null,
   "metadata": {
    "collapsed": false
   },
   "outputs": [],
   "source": [
    "def load_data_wrapper():\n",
    "\n",
    "    tr_d, va_d, te_d = load_data()\n",
    "    # training dataset\n",
    "    training_inputs = [np.reshape(x, (784, 1)) for x in tr_d[0]]\n",
    "    # convert label into Numpy-array for [0, 1, ..., 9]\n",
    "    # each element means each class\n",
    "    training_labels = [vectorized_result(y) for y in tr_d[1]]\n",
    "    training_data = zip(training_inputs, training_labels)\n",
    "\n",
    "    # validation dataset\n",
    "    validation_inputs = [np.reshape(x, (784, 1)) for x in va_d[0]]\n",
    "    validation_labels = [vectorized_result(y) for y in va_d[1]]\n",
    "    validation_data = zip(validation_inputs, validation_labels)\n",
    "\n",
    "    # test dataset\n",
    "    test_inputs = [np.reshape(x, (784, 1)) for x in te_d[0]]\n",
    "    test_labels = [vectorized_result(y) for y in te_d[1]]\n",
    "    test_data = zip(test_inputs, test_labels)\n",
    "\n",
    "    return (training_data, validation_data, test_data)"
   ]
  },
  {
   "cell_type": "code",
   "execution_count": null,
   "metadata": {
    "collapsed": false
   },
   "outputs": [],
   "source": [
    "from sklearn.grid_search import GridSearchCV\n",
    "from sklearn.svm import LinearSVC\n",
    "\n",
    "training_data, validation_data, test_data = load_data()\n",
    "# train\n",
    "params = {\"C\": [0.1, 1.0, 10.0, 100.0, 1000.0, 10000.0]}\n",
    "model = GridSearchCV(LinearSVC(), params, cv=3)\n",
    "model.fit(training_data[0], training_data[1])\n",
    "\n",
    "# clf = svm.SVC()\n",
    "# clf.fit(training_data[0], training_data[1])\n"
   ]
  },
  {
   "cell_type": "code",
   "execution_count": null,
   "metadata": {
    "collapsed": true
   },
   "outputs": [],
   "source": [
    "# test\n",
    "# predictions = [int(a) for a in clf.predict(test_data[0])]\n",
    "\n",
    "num_correct = sum(int(a == y) for a, y in zip(predictions, test_data[1]))\n",
    "print \"Baseline classifier using an SVM.\"\n",
    "print \"%s of %s values correct.\" % (num_correct, len(test_data[1]))\n"
   ]
  },
  {
   "cell_type": "code",
   "execution_count": null,
   "metadata": {
    "collapsed": true
   },
   "outputs": [],
   "source": []
  }
 ],
 "metadata": {
  "kernelspec": {
   "display_name": "Python 2",
   "language": "python",
   "name": "python2"
  },
  "language_info": {
   "codemirror_mode": {
    "name": "ipython",
    "version": 2
   },
   "file_extension": ".py",
   "mimetype": "text/x-python",
   "name": "python",
   "nbconvert_exporter": "python",
   "pygments_lexer": "ipython2",
   "version": "2.7.11"
  }
 },
 "nbformat": 4,
 "nbformat_minor": 0
}
